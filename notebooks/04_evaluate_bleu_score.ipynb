{
 "cells": [
  {
   "cell_type": "code",
   "execution_count": 1,
   "metadata": {},
   "outputs": [
    {
     "name": "stdout",
     "output_type": "stream",
     "text": [
      "/Users/juansegundohevia/Documents/repos/TexTract\n"
     ]
    }
   ],
   "source": [
    "%cd .."
   ]
  },
  {
   "cell_type": "code",
   "execution_count": 2,
   "metadata": {},
   "outputs": [
    {
     "name": "stderr",
     "output_type": "stream",
     "text": [
      "/Users/juansegundohevia/anaconda3/envs/pix2text/lib/python3.8/site-packages/tqdm/auto.py:21: TqdmWarning: IProgress not found. Please update jupyter and ipywidgets. See https://ipywidgets.readthedocs.io/en/stable/user_install.html\n",
      "  from .autonotebook import tqdm as notebook_tqdm\n"
     ]
    }
   ],
   "source": [
    "from PIL import Image\n",
    "import os\n",
    "import numpy as np\n",
    "import pix2tex as p2t\n",
    "from munch import Munch\n",
    "import yaml\n",
    "from pix2tex import cli as p2t\n",
    "import matplotlib.pyplot as plt\n",
    "from pix2tex.dataset.dataset import Im2LatexDataset\n",
    "from pix2tex.eval import evaluate\n",
    "from torchtext.data import metrics\n",
    "\n",
    "hw_config = Munch({\n",
    "    \"config\": \"settings/handwritten_training.yaml\",\n",
    "    \"checkpoint\": \"../../hw_checkpoints/handwritten_training/handwritten_training_e19_step63.pth\",\n",
    "    \"no_cuda\": True,\n",
    "    \"no_resize\": False\n",
    "})\n",
    "\n",
    "original_config = Munch({\n",
    "    \"config\": \"settings/config.yaml\",\n",
    "    \"checkpoint\": \"model/checkpoints/weights.pth\",\n",
    "    \"no_cuda\": True,\n",
    "    \"no_resize\": False\n",
    "}) \n",
    "hw_model = p2t.LatexOCR(hw_config)\n",
    "original_model = p2t.LatexOCR()\n",
    "# load test set for handwritten files\n",
    "hw_test_set = Im2LatexDataset().load(\"pix2tex/dataset/handwritten/test_hw.pkl\")\n",
    "original_test_set = Im2LatexDataset().load(\"pix2tex/dataset/formulae/test.pkl\")\n",
    "# load yaml files to parse configurations\n",
    "with open(\"pix2tex/model/settings/handwritten_training.yaml\", 'r') as f:\n",
    "    hw_config_yaml = Munch(yaml.safe_load(f))\n",
    "\n",
    "with open(\"pix2tex/model/settings/config.yaml\", 'r') as f:\n",
    "    original_config_yaml = Munch(yaml.safe_load(f))\n",
    "\n",
    "hw_config_yaml.device = \"cpu\""
   ]
  },
  {
   "cell_type": "code",
   "execution_count": 9,
   "metadata": {},
   "outputs": [
    {
     "name": "stderr",
     "output_type": "stream",
     "text": [
      "huggingface/tokenizers: The current process just got forked, after parallelism has already been used. Disabling parallelism to avoid deadlocks...\n",
      "To disable this warning, you can either:\n",
      "\t- Avoid using `tokenizers` before the fork if possible\n",
      "\t- Explicitly set the environment variable TOKENIZERS_PARALLELISM=(true | false)\n",
      "100%|██████████| 1083/1083 [32:02<00:00,  1.77s/it] \n"
     ]
    }
   ],
   "source": [
    "from tqdm import tqdm\n",
    "\n",
    "original_preds = {}\n",
    "hw_preds = {}\n",
    "\n",
    "HW_TEST_PATH = \"pix2tex/dataset/handwritten/\"\n",
    "\n",
    "# load text labels\n",
    "with open(os.path.join(HW_TEST_PATH, \"CROHME_math.txt\"), 'r') as f:\n",
    "    true_labels = f.readlines()\n",
    "\n",
    "img_fnames = os.listdir(os.path.join(HW_TEST_PATH, \"test\"))\n",
    "\n",
    "for img_fname in tqdm(img_fnames):\n",
    "    img_path = os.path.join(HW_TEST_PATH, \"test\", img_fname)\n",
    "    img = Image.open(img_path)\n",
    "    original_pred = original_model(img, original_config_yaml)\n",
    "    hw_pred = hw_model(img, hw_config_yaml)\n",
    "\n",
    "    label_idx = int(img_fname.split(\".\")[0])\n",
    "\n",
    "    original_preds[label_idx] = original_pred\n",
    "    hw_preds[label_idx] = hw_pred\n"
   ]
  },
  {
   "cell_type": "code",
   "execution_count": 10,
   "metadata": {},
   "outputs": [],
   "source": [
    "# save all to pkl files\n",
    "import pickle as pkl\n",
    "\n",
    "with open(\"pix2tex/dataset/handwritten/original_preds.pkl\", 'wb') as f:\n",
    "    pkl.dump(original_preds, f)\n",
    "\n",
    "with open(\"pix2tex/dataset/handwritten/hw_preds.pkl\", 'wb') as f:\n",
    "    pkl.dump(hw_preds, f)"
   ]
  },
  {
   "cell_type": "code",
   "execution_count": null,
   "metadata": {},
   "outputs": [
    {
     "name": "stderr",
     "output_type": "stream",
     "text": [
      "huggingface/tokenizers: The current process just got forked, after parallelism has already been used. Disabling parallelism to avoid deadlocks...\n",
      "To disable this warning, you can either:\n",
      "\t- Avoid using `tokenizers` before the fork if possible\n",
      "\t- Explicitly set the environment variable TOKENIZERS_PARALLELISM=(true | false)\n",
      "100%|██████████| 1083/1083 [32:02<00:00,  1.77s/it] \n"
     ]
    }
   ],
   "source": [
    "from tqdm import tqdm\n",
    "\n",
    "original_preds = {}\n",
    "hw_preds = {}\n",
    "\n",
    "HW_TEST_PATH = \"pix2tex/dataset/handwritten/\"\n",
    "\n",
    "# load text labels\n",
    "with open(os.path.join(HW_TEST_PATH, \"CROHME_math.txt\"), 'r') as f:\n",
    "    true_labels = f.readlines()\n",
    "\n",
    "img_fnames = os.listdir(os.path.join(HW_TEST_PATH, \"test\"))\n",
    "\n",
    "for img_fname in tqdm(img_fnames):\n",
    "    img_path = os.path.join(HW_TEST_PATH, \"test\", img_fname)\n",
    "    img = Image.open(img_path)\n",
    "    original_pred = original_model(img, original_config_yaml)\n",
    "    hw_pred = hw_model(img, hw_config_yaml)\n",
    "\n",
    "    label_idx = int(img_fname.split(\".\")[0])\n",
    "\n",
    "    original_preds[label_idx] = original_pred\n",
    "    hw_preds[label_idx] = hw_pred\n"
   ]
  },
  {
   "cell_type": "code",
   "execution_count": 13,
   "metadata": {},
   "outputs": [],
   "source": [
    "# save to pickle files\n",
    "import pickle as pkl\n",
    "\n",
    "with open(\"notebooks/preds/original_preds.pkl\", 'wb') as f:\n",
    "    pkl.dump(original_preds, f)\n",
    "\n",
    "with open(\"notebooks/preds/hw_preds.pkl\", 'wb') as f:\n",
    "    pkl.dump(hw_preds, f)"
   ]
  },
  {
   "cell_type": "code",
   "execution_count": 15,
   "metadata": {},
   "outputs": [
    {
     "name": "stderr",
     "output_type": "stream",
     "text": [
      "100%|██████████| 1200/1200 [43:31<00:00,  2.18s/it] \n"
     ]
    }
   ],
   "source": [
    "from tqdm import tqdm\n",
    "\n",
    "original_preds_formulae = {}\n",
    "hw_preds_formulae = {}\n",
    "\n",
    "FORMULAE_PATH = \"pix2tex/dataset/formulae/\"\n",
    "\n",
    "# load text labels\n",
    "with open(os.path.join(FORMULAE_PATH, \"math.txt\"), 'r') as f:\n",
    "    true_labels_formulae = f.readlines()\n",
    "\n",
    "img_fnames = os.listdir(os.path.join(FORMULAE_PATH, \"test\"))\n",
    "\n",
    "for img_fname in tqdm(img_fnames[:1200]):\n",
    "    img_path = os.path.join(FORMULAE_PATH, \"test\", img_fname)\n",
    "    img = Image.open(img_path)\n",
    "    original_pred = original_model(img, original_config_yaml)\n",
    "    hw_pred = hw_model(img, hw_config_yaml)\n",
    "\n",
    "    label_idx = int(img_fname.split(\".\")[0])\n",
    "\n",
    "    original_preds_formulae[label_idx] = original_pred\n",
    "    hw_preds_formulae[label_idx] = hw_pred"
   ]
  },
  {
   "cell_type": "code",
   "execution_count": 16,
   "metadata": {},
   "outputs": [],
   "source": [
    "# save to pickle files\n",
    "import pickle as pkl\n",
    "\n",
    "with open(\"notebooks/preds/ORIGINAL-DATA-original_preds.pkl\", 'wb') as f:\n",
    "    pkl.dump(original_preds_formulae, f)\n",
    "\n",
    "with open(\"notebooks/preds/ORIGINAL-DATA-hw_preds.pkl\", 'wb') as f:\n",
    "    pkl.dump(hw_preds_formulae, f)"
   ]
  }
 ],
 "metadata": {
  "kernelspec": {
   "display_name": "pix2text",
   "language": "python",
   "name": "python3"
  },
  "language_info": {
   "codemirror_mode": {
    "name": "ipython",
    "version": 3
   },
   "file_extension": ".py",
   "mimetype": "text/x-python",
   "name": "python",
   "nbconvert_exporter": "python",
   "pygments_lexer": "ipython3",
   "version": "3.8.18"
  }
 },
 "nbformat": 4,
 "nbformat_minor": 2
}
