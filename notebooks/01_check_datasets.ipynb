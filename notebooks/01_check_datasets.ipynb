{
 "cells": [
  {
   "cell_type": "code",
   "execution_count": 3,
   "metadata": {},
   "outputs": [
    {
     "name": "stdout",
     "output_type": "stream",
     "text": [
      "/Users/juansegundohevia/Documents/repos/TexTract\n"
     ]
    }
   ],
   "source": [
    "%cd .."
   ]
  },
  {
   "cell_type": "code",
   "execution_count": 7,
   "metadata": {},
   "outputs": [
    {
     "name": "stderr",
     "output_type": "stream",
     "text": [
      "/Users/juansegundohevia/anaconda3/envs/pix2text/lib/python3.8/site-packages/tqdm/auto.py:21: TqdmWarning: IProgress not found. Please update jupyter and ipywidgets. See https://ipywidgets.readthedocs.io/en/stable/user_install.html\n",
      "  from .autonotebook import tqdm as notebook_tqdm\n"
     ]
    }
   ],
   "source": [
    "import pickle as pkl\n",
    "import numpy as np\n",
    "import os \n",
    "import torch\n",
    "\n",
    "# Pix2Tex imports\n",
    "from pix2tex.dataset.dataset import Im2LatexDataset\n",
    "from pix2tex.utils import in_model_path, parse_args, seed_everything, get_optimizer, get_scheduler, gpu_memory_check\n",
    "from pix2tex.eval import evaluate\n",
    "from pix2tex.models import get_model"
   ]
  },
  {
   "cell_type": "markdown",
   "metadata": {},
   "source": [
    "# Vanilla train"
   ]
  },
  {
   "cell_type": "code",
   "execution_count": 8,
   "metadata": {},
   "outputs": [
    {
     "data": {
      "text/plain": [
       "<pix2tex.dataset.dataset.Im2LatexDataset at 0x103423d30>"
      ]
     },
     "execution_count": 8,
     "metadata": {},
     "output_type": "execute_result"
    }
   ],
   "source": [
    "train_ds = Im2LatexDataset().load(\"pix2tex/dataset/data/train.pkl\")\n",
    "train_ds"
   ]
  },
  {
   "cell_type": "code",
   "execution_count": 10,
   "metadata": {},
   "outputs": [
    {
     "data": {
      "text/plain": [
       "[]"
      ]
     },
     "execution_count": 10,
     "metadata": {},
     "output_type": "execute_result"
    }
   ],
   "source": [
    "train_ds.images # images attribute are empty"
   ]
  },
  {
   "cell_type": "markdown",
   "metadata": {},
   "source": [
    "# Handwritten train"
   ]
  },
  {
   "cell_type": "code",
   "execution_count": 11,
   "metadata": {},
   "outputs": [
    {
     "data": {
      "text/plain": [
       "<pix2tex.dataset.dataset.Im2LatexDataset at 0x176d6e940>"
      ]
     },
     "execution_count": 11,
     "metadata": {},
     "output_type": "execute_result"
    }
   ],
   "source": [
    "hw_train_ds = Im2LatexDataset().load(\"pix2tex/dataset/data/handwritten_total.pkl\")\n",
    "hw_train_ds"
   ]
  },
  {
   "cell_type": "code",
   "execution_count": 15,
   "metadata": {},
   "outputs": [
    {
     "data": {
      "text/plain": [
       "10822"
      ]
     },
     "execution_count": 15,
     "metadata": {},
     "output_type": "execute_result"
    }
   ],
   "source": [
    "len(hw_train_ds.images) # images attribute are empty"
   ]
  },
  {
   "cell_type": "code",
   "execution_count": 16,
   "metadata": {},
   "outputs": [
    {
     "data": {
      "text/plain": [
       "10822"
      ]
     },
     "execution_count": 16,
     "metadata": {},
     "output_type": "execute_result"
    }
   ],
   "source": [
    "len(hw_train_ds.indices) # images attribute are empty"
   ]
  },
  {
   "cell_type": "code",
   "execution_count": 18,
   "metadata": {},
   "outputs": [
    {
     "data": {
      "text/plain": [
       "2819"
      ]
     },
     "execution_count": 18,
     "metadata": {},
     "output_type": "execute_result"
    }
   ],
   "source": [
    "hw_train_ds.indices[0]"
   ]
  },
  {
   "cell_type": "markdown",
   "metadata": {},
   "source": [
    "## Split HW images and equations into train-test splits"
   ]
  },
  {
   "cell_type": "code",
   "execution_count": 23,
   "metadata": {},
   "outputs": [
    {
     "data": {
      "text/plain": [
       "10846"
      ]
     },
     "execution_count": 23,
     "metadata": {},
     "output_type": "execute_result"
    }
   ],
   "source": [
    "with open(\"pix2tex/resources/CROHME/CROHME_math.txt\", \"r\") as f:\n",
    "    equations = f.readlines()\n",
    "\n",
    "equations[0]\n",
    "len(equations)"
   ]
  },
  {
   "cell_type": "code",
   "execution_count": 24,
   "metadata": {},
   "outputs": [
    {
     "data": {
      "text/plain": [
       "'0002819.png'"
      ]
     },
     "execution_count": 24,
     "metadata": {},
     "output_type": "execute_result"
    }
   ],
   "source": [
    "# make a list with the images fnames\n",
    "images = os.listdir(\"pix2tex/resources/CROHME/images\")\n",
    "images[0]"
   ]
  },
  {
   "cell_type": "code",
   "execution_count": 30,
   "metadata": {},
   "outputs": [
    {
     "data": {
      "text/plain": [
       "10822"
      ]
     },
     "execution_count": 30,
     "metadata": {},
     "output_type": "execute_result"
    }
   ],
   "source": [
    "len(images)"
   ]
  },
  {
   "cell_type": "code",
   "execution_count": 26,
   "metadata": {},
   "outputs": [
    {
     "name": "stdout",
     "output_type": "stream",
     "text": [
      "7575 9739 10821\n"
     ]
    }
   ],
   "source": [
    "# to split the HW dataset, I just need to place the images in 3 separate\n",
    "# folders\n",
    "train_idx = int(len(hw_train_ds) * .7)\n",
    "val_idx = train_idx + int(len(hw_train_ds) * .2)\n",
    "test_idx = val_idx + int(len(hw_train_ds) * .1)\n",
    "\n",
    "print(train_idx, val_idx, test_idx) # close to total"
   ]
  },
  {
   "cell_type": "code",
   "execution_count": 29,
   "metadata": {},
   "outputs": [
    {
     "name": "stdout",
     "output_type": "stream",
     "text": [
      "Split lengths 7575 2164 1083\n",
      "Total 10822\n"
     ]
    }
   ],
   "source": [
    "train_images = images[:train_idx]\n",
    "val_images = images[train_idx:val_idx]\n",
    "test_images = images[val_idx:]\n",
    "\n",
    "print(\"Split lengths\",len(train_images), len(val_images), len(test_images))\n",
    "print(\"Total\",sum([len(train_images), len(val_images), len(test_images)]))"
   ]
  },
  {
   "cell_type": "code",
   "execution_count": 34,
   "metadata": {},
   "outputs": [
    {
     "name": "stderr",
     "output_type": "stream",
     "text": [
      "100%|██████████| 7575/7575 [00:00<00:00, 10442.50it/s]\n",
      "100%|██████████| 2164/2164 [00:00<00:00, 16538.40it/s]\n",
      "100%|██████████| 1083/1083 [00:00<00:00, 16538.92it/s]\n"
     ]
    }
   ],
   "source": [
    "# move the images to the respective folders\n",
    "ORIGIN_PATH = \"pix2tex/dataset/CROHME/images\" # we're taking hte images from here\n",
    "HW_DATA_PATH = \"pix2tex/dataset/handwritten\"\n",
    "os.makedirs(HW_DATA_PATH, exist_ok=True)\n",
    "os.makedirs(f\"{HW_DATA_PATH}/train\", exist_ok=True)\n",
    "os.makedirs(f\"{HW_DATA_PATH}/val\", exist_ok=True)\n",
    "os.makedirs(f\"{HW_DATA_PATH}/test\", exist_ok=True)\n",
    "\n",
    "import shutil\n",
    "from tqdm import tqdm\n",
    "\n",
    "for img in tqdm(train_images):\n",
    "    shutil.move(os.path.join(ORIGIN_PATH, img), os.path.join(HW_DATA_PATH,\"train\", img))\n",
    "\n",
    "for img in tqdm(val_images):\n",
    "    shutil.move(os.path.join(ORIGIN_PATH, img), os.path.join(HW_DATA_PATH,\"val\", img))\n",
    "\n",
    "for img in tqdm(test_images):\n",
    "    shutil.move(os.path.join(ORIGIN_PATH, img), os.path.join(HW_DATA_PATH,\"test\", img))"
   ]
  },
  {
   "cell_type": "markdown",
   "metadata": {},
   "source": [
    "## Check they were split correctly"
   ]
  },
  {
   "cell_type": "code",
   "execution_count": 36,
   "metadata": {},
   "outputs": [],
   "source": [
    "hw_train = Im2LatexDataset().load(\"pix2tex/dataset/handwritten/train_hw.pkl\")"
   ]
  },
  {
   "cell_type": "code",
   "execution_count": 37,
   "metadata": {},
   "outputs": [
    {
     "data": {
      "text/plain": [
       "7575"
      ]
     },
     "execution_count": 37,
     "metadata": {},
     "output_type": "execute_result"
    }
   ],
   "source": [
    "len(hw_train.images)"
   ]
  },
  {
   "cell_type": "code",
   "execution_count": 38,
   "metadata": {},
   "outputs": [
    {
     "data": {
      "text/plain": [
       "7575"
      ]
     },
     "execution_count": 38,
     "metadata": {},
     "output_type": "execute_result"
    }
   ],
   "source": [
    "len(hw_train.indices)"
   ]
  }
 ],
 "metadata": {
  "kernelspec": {
   "display_name": "pix2text",
   "language": "python",
   "name": "python3"
  },
  "language_info": {
   "codemirror_mode": {
    "name": "ipython",
    "version": 3
   },
   "file_extension": ".py",
   "mimetype": "text/x-python",
   "name": "python",
   "nbconvert_exporter": "python",
   "pygments_lexer": "ipython3",
   "version": "3.8.18"
  }
 },
 "nbformat": 4,
 "nbformat_minor": 2
}
